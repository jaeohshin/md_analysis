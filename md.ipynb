{
 "cells": [
  {
   "cell_type": "markdown",
   "metadata": {
    "id": "Rc3gPsMdLgmK"
   },
   "source": [
    "# Molecular dynamics simulation"
   ]
  },
  {
   "cell_type": "markdown",
   "metadata": {},
   "source": [
    "### 1. Import modules"
   ]
  },
  {
   "cell_type": "code",
   "execution_count": 1,
   "metadata": {
    "colab": {
     "base_uri": "https://localhost:8080/"
    },
    "id": "3g6vsWucLgng",
    "outputId": "daef1613-b0bf-4929-d5ed-8c3137151645"
   },
   "outputs": [],
   "source": [
    "import copy\n",
    "import sys\n",
    "from pathlib import Path\n",
    "import requests\n",
    "from IPython.display import display\n",
    "\n",
    "import numpy as np\n",
    "import openmm as mm\n",
    "import openmm.app as app\n",
    "from openmm import unit\n",
    "import mdtraj as md\n",
    "import pdbfixer\n",
    "\n",
    "from rdkit import Chem\n",
    "from rdkit.Chem import Draw\n",
    "from rdkit.Chem import AllChem\n",
    "\n",
    "from openff.toolkit.topology import Molecule, Topology\n",
    "from openmmforcefields.generators import GAFFTemplateGenerator"
   ]
  },
  {
   "cell_type": "markdown",
   "metadata": {},
   "source": [
    "### 2. Input Files"
   ]
  },
  {
   "cell_type": "code",
   "execution_count": 2,
   "metadata": {},
   "outputs": [
    {
     "name": "stdout",
     "output_type": "stream",
     "text": [
      "PDB Path:\n",
      "/gpfs/jaeohshin/kinase/test/cutoff_protein.pdb\n"
     ]
    }
   ],
   "source": [
    "# create data directory if not exists\n",
    "#HERE = Path(_dh[-1])\n",
    "HERE = Path.cwd()\n",
    "DATA = HERE / \"test\"\n",
    "pdb_path = DATA / \"cutoff_protein.pdb\"\n",
    "\n",
    "print(\"PDB Path:\")\n",
    "print(pdb_path)\n",
    "\n",
    "\n",
    "\"\"\"\n",
    "I plan to use the amber99sb-ildn force field for the protein, TIP3P for water molecules, \n",
    "and the Joung-Cheatham (JC) model for ions. Since the \"amber99sbildn.xml\" file already includes ion parameters, \n",
    "I have commented out the ion potentials (Na+ and Cl-, since I will use only them anyway) in this file to avoid conflicts. The JC parameters are provided in the \"amber14/tip3p.xml\" file.\n",
    "\n",
    "The path to the \"amber99sbildn.xml\" file on the cluster (under my account) is:\n",
    "/Users/jaeohshin/miniconda3/envs/md/lib/python3.12/site-packages/openmm/app/data/amber99sbildn.xml\n",
    "I have removed the parameters for Na+ and Cl- from \"amber99sbildn.xml\" to ensure that the system uses the ion parameters defined in \n",
    "\"amber14/tip3p.xml\" (as of October 1st, 2024, by Jaeoh Shin).\n",
    "\n",
    "---\n",
    "Below is comment from OpenMM website for your infomation.\n",
    "The solvent model XML files included under the amber14/ directory include both water and ions compatible with that water model, \n",
    "so if you mistakenly specify tip3p.xml instead of amber14/tip3p.xml, you run the risk of having ForceField throw an exception \n",
    "since tip3p.xml will be missing parameters for ions in your system.\n",
    "---\n",
    "\n",
    "\"\"\"\n",
    "protein_ff=\"amber99sbildn.xml\"\n",
    "solvent_ff=\"amber14/tip3p.xml\"\n",
    "forcefield = app.ForceField(protein_ff, solvent_ff)"
   ]
  },
  {
   "cell_type": "markdown",
   "metadata": {},
   "source": [
    "### 3. System Configuration"
   ]
  },
  {
   "cell_type": "code",
   "execution_count": 3,
   "metadata": {},
   "outputs": [],
   "source": [
    "nonbondedMethod = app.PME\n",
    "rigidWater = True\n",
    "hydrogenMass = 2*unit.amu\n",
    "\n",
    "\n",
    "# Integration Options\n",
    "\n",
    "dt = 2.0 * unit.femtoseconds\n",
    "temperature = 300 * unit.kelvin\n",
    "friction = 1.0 / unit.picoseconds\n",
    "pressure = 1.0 * unit.atmosphere\n",
    "barostatInterval = 25 # default value\n",
    "\n",
    "\n",
    "# Simulation Options\n",
    "steps = 1e5 #5e8                 ## 1e8= 200 ns, 1e6=2ns\n",
    "write_interval = 25000        ## 25,000 = 50 ps\n",
    "log_interval = 5e4          ## 5e4 = 100 ps\n",
    "equilibrationSteps = 1e5\n",
    "\n",
    "platform = mm.Platform.getPlatformByName('CUDA')\n",
    "platformProperties = {'Precision': 'mixed'}\n",
    "\n",
    "\n",
    "\n",
    "dataReporter= app.StateDataReporter(\n",
    "        sys.stdout, log_interval, step=True,\n",
    "        potentialEnergy=True, kineticEnergy=True, \n",
    "        temperature=True, volume=True, density=True,\n",
    "        progress=True, remainingTime=True, speed=True,\n",
    "        totalSteps=steps, separator=\"\\t\"\n",
    "    )"
   ]
  },
  {
   "cell_type": "markdown",
   "metadata": {
    "id": "krsfBvoenaYu"
   },
   "source": [
    "### 3. Prepare the protein"
   ]
  },
  {
   "cell_type": "markdown",
   "metadata": {
    "id": "t3mGSg8LLgop"
   },
   "source": [
    "#### Protein preparation\n",
    "\n",
    "A crucial part for successful simulation is a correct and complete system. Crystallographic structures retrieved from the Protein Data Bank often miss atoms, mainly hydrogens, and may contain non-standard residues. In this talktorial, we will use the Python package [PDBFixer](https://github.com/openmm/pdbfixer) to prepare the protein structure. However, co-crystallized ligands are not handled well by [PDBFixer](https://github.com/openmm/pdbfixer) and will thus be prepared separately."
   ]
  },
  {
   "cell_type": "code",
   "execution_count": 4,
   "metadata": {
    "id": "pA9Vct0iNRhl"
   },
   "outputs": [],
   "source": [
    "def prepare_protein(\n",
    "    pdb_file, ignore_missing_residues=True, ignore_terminal_missing_residues=True, ph=7.0\n",
    "):\n",
    "    \"\"\"\n",
    "    Use pdbfixer to prepare the protein from a PDB file. Hetero atoms such as ligands are\n",
    "    removed and non-standard residues replaced. Missing atoms to existing residues are added.\n",
    "    Missing residues are ignored by default, but can be included.\n",
    "\n",
    "    Parameters\n",
    "    ----------\n",
    "    pdb_file: pathlib.Path or str\n",
    "        PDB file containing the system to simulate.\n",
    "    ignore_missing_residues: bool, optional\n",
    "        If missing residues should be ignored or built.\n",
    "    ignore_terminal_missing_residues: bool, optional\n",
    "        If missing residues at the beginning and the end of a chain should be ignored or built.\n",
    "    ph: float, optional\n",
    "        pH value used to determine protonation state of residues\n",
    "\n",
    "    Returns\n",
    "    -------\n",
    "    fixer: pdbfixer.pdbfixer.PDBFixer\n",
    "        Prepared protein system.\n",
    "    \"\"\"\n",
    "    fixer = pdbfixer.PDBFixer(str(pdb_file))\n",
    "    fixer.removeHeterogens()  # co-crystallized ligands are unknown to PDBFixer\n",
    "    fixer.findMissingResidues()  # identify missing residues, needed for identification of missing atoms\n",
    "\n",
    "    # if missing terminal residues shall be ignored, remove them from the dictionary\n",
    "    if ignore_terminal_missing_residues:\n",
    "        chains = list(fixer.topology.chains())\n",
    "        keys = fixer.missingResidues.keys()\n",
    "        for key in list(keys):\n",
    "            chain = chains[key[0]]\n",
    "            if key[1] == 0 or key[1] == len(list(chain.residues())):\n",
    "                del fixer.missingResidues[key]\n",
    "\n",
    "    # if all missing residues shall be ignored ignored, clear the dictionary\n",
    "    if ignore_missing_residues:\n",
    "        fixer.missingResidues = {}\n",
    "\n",
    "    fixer.findNonstandardResidues()  # find non-standard residue\n",
    "    fixer.replaceNonstandardResidues()  # replace non-standard residues with standard one\n",
    "    fixer.findMissingAtoms()  # find missing heavy atoms\n",
    "    fixer.addMissingAtoms()  # add missing atoms and residues\n",
    "    fixer.addMissingHydrogens(ph)  # add missing hydrogens\n",
    "    return fixer"
   ]
  },
  {
   "cell_type": "code",
   "execution_count": 5,
   "metadata": {
    "id": "bxuyg-oxOtvn"
   },
   "outputs": [],
   "source": [
    "# prepare protein and build only missing non-terminal residues\n",
    "prepared_protein = prepare_protein(pdb_path, ignore_missing_residues=False)"
   ]
  },
  {
   "cell_type": "markdown",
   "metadata": {
    "id": "NP9WekSTO5N3"
   },
   "source": [
    "### 4. Merge protein and ligand\n",
    "\n",
    "In the next step, we want to merge the prepared protein and ligand structures using the Python package [MDTraj](https://github.com/mdtraj/mdtraj). [MDTraj](https://github.com/mdtraj/mdtraj) can handle the prepared protein, which is currently a [PDBFixer](https://github.com/openmm/pdbfixer) molecule, a format that has a topology and atom positions similar to and usually interchangeable with [OpenMM Modeller](http://docs.openmm.org/latest/userguide/application.html#model-building-and-editing) topologies and positions. For the ligand however, we need to do several conversions, since it is currently an [RDKit](https://github.com/rdkit/rdkit) molecule."
   ]
  },
  {
   "cell_type": "markdown",
   "metadata": {
    "id": "dqY5AE0JGIgL"
   },
   "source": [
    "Now protein and ligand are both in [OpenMM](https://github.com/openmm/openmm) like formats and can be merged with [MDTraj](https://github.com/mdtraj/mdtraj)."
   ]
  },
  {
   "cell_type": "code",
   "execution_count": 6,
   "metadata": {
    "id": "8gJMRq8fZYOU"
   },
   "outputs": [],
   "source": [
    "def merge_protein(protein):\n",
    "    \"\"\"\n",
    "    Merge two OpenMM objects.\n",
    "\n",
    "    Parameters\n",
    "    ----------\n",
    "    protein: pdbfixer.pdbfixer.PDBFixer\n",
    "        Protein to merge.\n",
    "    ligand: openmm.app.Modeller\n",
    "        Ligand to merge.\n",
    "\n",
    "    Returns\n",
    "    -------\n",
    "    complex_topology: openmm.app.topology.Topology\n",
    "        The merged topology.\n",
    "    complex_positions: openmm.unit.quantity.Quantity\n",
    "        The merged positions.\n",
    "    \"\"\"\n",
    "    # combine topologies\n",
    "    md_protein_topology = md.Topology.from_openmm(protein.topology)  # using mdtraj for protein top\n",
    "    complex_topology = md_protein_topology.to_openmm()\n",
    "\n",
    "    # combine positions\n",
    "    #total_atoms = len(protein.positions) + len(ligand.positions)\n",
    "    total_atoms = len(protein.positions) \n",
    "\n",
    "    # create an array for storing all atom positions as tupels containing a value and a unit\n",
    "    # called OpenMM Quantities\n",
    "    complex_positions = unit.Quantity(np.zeros([total_atoms, 3]), unit=unit.nanometers)\n",
    "    complex_positions = protein.positions  # add protein positions\n",
    "\n",
    "    return complex_topology, complex_positions"
   ]
  },
  {
   "cell_type": "code",
   "execution_count": 7,
   "metadata": {
    "id": "ZXmeeV0ZPOho"
   },
   "outputs": [],
   "source": [
    "complex_topology, complex_positions = merge_protein(prepared_protein)"
   ]
  },
  {
   "cell_type": "code",
   "execution_count": 8,
   "metadata": {
    "id": "ZXmeeV0ZPOho"
   },
   "outputs": [
    {
     "name": "stdout",
     "output_type": "stream",
     "text": [
      "Complex topology has 5504 atoms.\n"
     ]
    }
   ],
   "source": [
    "print(\"Complex topology has\", complex_topology.getNumAtoms(), \"atoms.\")"
   ]
  },
  {
   "cell_type": "markdown",
   "metadata": {
    "id": "cGrreylan6XS"
   },
   "source": [
    "### 7. System setup"
   ]
  },
  {
   "cell_type": "markdown",
   "metadata": {
    "id": "DzO12MFp2P48"
   },
   "source": [
    "With our configured force field we can now  use the  [OpenMM Modeller](http://docs.openmm.org/latest/userguide/application.html#model-building-and-editing) class to create the MD environment, a simulation box which contains the complex and is filled with a solvent. The standard solvent is water with a specified amount of ions. The size of the box can be determined in various ways. We define it with a padding, which results in a cubic box with dimensions dependent on the largest dimension of the complex.\n",
    "\n",
    "> Note this step can take a long time, in the order of minutes, depending on your hardware."
   ]
  },
  {
   "cell_type": "code",
   "execution_count": 9,
   "metadata": {
    "id": "c4LEvWMI8ash"
   },
   "outputs": [],
   "source": [
    "modeller = app.Modeller(complex_topology, complex_positions)\n",
    "modeller.addSolvent(forcefield, padding=1.0 * unit.nanometers, boxShape='dodecahedron', ionicStrength=0.15 * unit.molar)"
   ]
  },
  {
   "cell_type": "markdown",
   "metadata": {
    "id": "TwAEe5d8n4jf"
   },
   "source": [
    "### Building system\n",
    "With our solvated system and force field, we can finally create an [OpenMM System](http://docs.openmm.org/development/api-python/generated/openmm.openmm.System.html#openmm.openmm.System) and set up the simulation.\n",
    "Additionally to the system the simulation needs an integrator. An [OpenMM Integrator](http://docs.openmm.org/development/api-python/library.html#integrators) defines a method for simulating a system by integrating the equations of motion. The chosen **Langevin Integrator** uses Langevin equations. A list of all different kinds of integrators can be found in the [OpenMM Docs](http://docs.openmm.org/development/api-python/library.html#integrators). For further insight into the **Langevin Integrator**, we recommend reading about Langevin equations, e.g. on [Wikipedia](https://en.wikipedia.org/wiki/Langevin_equation)."
   ]
  },
  {
   "cell_type": "code",
   "execution_count": 10,
   "metadata": {
    "id": "n52Cmkr4dpI-"
   },
   "outputs": [
    {
     "name": "stdout",
     "output_type": "stream",
     "text": [
      "Building system...\n"
     ]
    }
   ],
   "source": [
    "print('Building system...')\n",
    "\n",
    "system = forcefield.createSystem(modeller.topology, nonbondedMethod=nonbondedMethod, rigidWater=rigidWater, hydrogenMass=hydrogenMass)\n",
    "system.addForce(mm.MonteCarloBarostat(pressure,temperature, barostatInterval))\n",
    "\n",
    "integrator = mm.LangevinMiddleIntegrator(temperature, friction, dt)\n",
    "simulation = app.Simulation(modeller.topology, system, integrator, platform, platformProperties)\n",
    "simulation.context.setPositions(modeller.positions)"
   ]
  },
  {
   "cell_type": "markdown",
   "metadata": {
    "id": "JwEgrFkILgqL"
   },
   "source": [
    "### 8. Minimize and Equilibrate\n",
    "Now that everything is set up, we can perform the simulation. We need to set starting positions and minimize the energy of the system to get a low energy starting configuration, which is important to decrease the chance of simulation failures due to severe atom clashes. The energy minimized system is saved."
   ]
  },
  {
   "cell_type": "code",
   "execution_count": 11,
   "metadata": {
    "id": "EgkE1EUGLgqP"
   },
   "outputs": [
    {
     "name": "stdout",
     "output_type": "stream",
     "text": [
      "Minimizing energy...\n",
      "Equilibrating...\n"
     ]
    }
   ],
   "source": [
    "print(\"Minimizing energy...\")\n",
    "simulation.minimizeEnergy()\n",
    "\n",
    "print(\"Equilibrating...\")\n",
    "simulation.context.setVelocitiesToTemperature(temperature)\n",
    "simulation.step(equilibrationSteps)\n"
   ]
  },
  {
   "cell_type": "code",
   "execution_count": 12,
   "metadata": {},
   "outputs": [],
   "source": [
    "#pdb = ap.PDBFile(pdb_)file)\n",
    "#print(simulation.topology)\n",
    "#print(type(simulation))\n",
    "protein_atom_indices = []\n",
    "\n",
    "for atom in simulation.topology.atoms():\n",
    "    # Check if the atom belongs to a protein residue\n",
    "    if atom.residue.name not in ['HOH', 'NA', 'CL']:  # Exclude common non-protein residues\n",
    "    #if False:\n",
    "    #if atom.atom.name in ['ATOM']:  # Exclude common non-protein residues\n",
    "        protein_atom_indices.append(atom.index)"
   ]
  },
  {
   "cell_type": "code",
   "execution_count": 13,
   "metadata": {},
   "outputs": [
    {
     "name": "stdout",
     "output_type": "stream",
     "text": [
      "5504\n"
     ]
    }
   ],
   "source": [
    "print(len(protein_atom_indices))"
   ]
  },
  {
   "cell_type": "code",
   "execution_count": 14,
   "metadata": {},
   "outputs": [],
   "source": [
    "# Energy minimized system is saved.\n",
    "\n",
    "with open(DATA / \"top.pdb\", \"w\") as pdb_file:\n",
    "    #positions = simulation.context.getState(getPositions=True, enforcePeriodicBox=True).getPositions(protein_atom_indices)\n",
    "    positions = simulation.context.getState(getPositions=True, enforcePeriodicBox=True).getPositions()\n",
    "    app.PDBFile.writeFile(simulation.topology, positions=positions, file=pdb_file, keepIds=True)"
   ]
  },
  {
   "cell_type": "code",
   "execution_count": 15,
   "metadata": {},
   "outputs": [],
   "source": [
    "# Save only protein system\n",
    "traj = md.load(DATA / \"top.pdb\")\n",
    "protein_atoms = traj.topology.select(\"protein\")\n",
    "protein_traj = traj.atom_slice(protein_atoms)\n",
    "protein_traj.save_pdb(DATA / \"top_protein.pdb\")"
   ]
  },
  {
   "cell_type": "code",
   "execution_count": null,
   "metadata": {},
   "outputs": [],
   "source": []
  },
  {
   "cell_type": "code",
   "execution_count": 16,
   "metadata": {},
   "outputs": [
    {
     "data": {
      "text/plain": [
       "'\\nwith open(DATA / \"topology_subset.pdb\", \"w\") as pdb_file:\\n    state = simulation.context.getState(getPositions=True, enforcePeriodicBox=True)\\n    app.PDBFile.writeFile(\\n        simulation.topology,\\n        state.getPositions(protein_atom_indices),\\n        file=pdb_file,\\n        keepIds=True,\\n    )\\n'"
      ]
     },
     "execution_count": 16,
     "metadata": {},
     "output_type": "execute_result"
    }
   ],
   "source": [
    "# Create a filtered topology \n",
    "\"\"\"\n",
    "with open(DATA / \"topology_subset.pdb\", \"w\") as pdb_file:\n",
    "    state = simulation.context.getState(getPositions=True, enforcePeriodicBox=True)\n",
    "    app.PDBFile.writeFile(\n",
    "        simulation.topology,\n",
    "        state.getPositions(protein_atom_indices),\n",
    "        file=pdb_file,\n",
    "        keepIds=True,\n",
    "    )\n",
    "\"\"\""
   ]
  },
  {
   "cell_type": "code",
   "execution_count": 17,
   "metadata": {},
   "outputs": [],
   "source": [
    "xtcReporter = md.reporters.XTCReporter(file=str(DATA / \"traj_protein.xtc\"), \n",
    "                                       reportInterval=write_interval, atomSubset=protein_atoms)"
   ]
  },
  {
   "cell_type": "code",
   "execution_count": 18,
   "metadata": {},
   "outputs": [
    {
     "name": "stdout",
     "output_type": "stream",
     "text": [
      "5504\n"
     ]
    }
   ],
   "source": [
    "print(len(protein_atom_indices))"
   ]
  },
  {
   "cell_type": "code",
   "execution_count": 19,
   "metadata": {},
   "outputs": [
    {
     "data": {
      "text/plain": [
       "'/gpfs/jaeohshin/kinase'"
      ]
     },
     "execution_count": 19,
     "metadata": {},
     "output_type": "execute_result"
    }
   ],
   "source": [
    "pwd"
   ]
  },
  {
   "cell_type": "markdown",
   "metadata": {
    "id": "KAwpxWM7ozSo"
   },
   "source": [
    "#### Simulating"
   ]
  },
  {
   "cell_type": "code",
   "execution_count": 20,
   "metadata": {
    "id": "E8t-0ZxFLgqh"
   },
   "outputs": [
    {
     "name": "stdout",
     "output_type": "stream",
     "text": [
      "Simulating...\n",
      "#\"Progress (%)\"\t\"Step\"\t\"Potential Energy (kJ/mole)\"\t\"Kinetic Energy (kJ/mole)\"\t\"Temperature (K)\"\t\"Box Volume (nm^3)\"\t\"Density (g/mL)\"\t\"Speed (ns/day)\"\t\"Time Remaining\"\n",
      "50.0%\t50000\t-835799.3882939233\t162262.28909177263\t300.8334511606106\t621.0807436254355\t1.0199452789300605\t0\t--\n",
      "100.0%\t100000\t-835789.3614590042\t161774.36790689614\t299.92884778811805\t622.4520590390672\t1.017698251770705\t176\t0:00\n"
     ]
    }
   ],
   "source": [
    "\n",
    "print('Simulating...')\n",
    "simulation.reporters.append(xtcReporter)\n",
    "simulation.reporters.append(dataReporter)\n",
    "simulation.currentStep = 0\n",
    "simulation.step(steps)"
   ]
  }
 ],
 "metadata": {
  "accelerator": "GPU",
  "colab": {
   "collapsed_sections": [],
   "name": "talktorial.ipynb",
   "provenance": [],
   "toc_visible": true
  },
  "kernelspec": {
   "display_name": "Python 3 (ipykernel)",
   "language": "python",
   "name": "python3"
  },
  "language_info": {
   "codemirror_mode": {
    "name": "ipython",
    "version": 3
   },
   "file_extension": ".py",
   "mimetype": "text/x-python",
   "name": "python",
   "nbconvert_exporter": "python",
   "pygments_lexer": "ipython3",
   "version": "3.12.2"
  },
  "widgets": {
   "application/vnd.jupyter.widget-state+json": {
    "state": {},
    "version_major": 2,
    "version_minor": 0
   }
  }
 },
 "nbformat": 4,
 "nbformat_minor": 4
}
